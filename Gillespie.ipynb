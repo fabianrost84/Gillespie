{
 "cells": [
  {
   "cell_type": "code",
   "execution_count": 1,
   "metadata": {
    "ExecuteTime": {
     "end_time": "2017-08-14T14:58:57.494093Z",
     "start_time": "2017-08-14T14:58:57.148818Z"
    }
   },
   "outputs": [],
   "source": [
    "%load_ext line_profiler\n",
    "import matplotlib.pyplot as plt\n",
    "%matplotlib inline\n",
    "import numba\n",
    "import numpy as np"
   ]
  },
  {
   "cell_type": "markdown",
   "metadata": {},
   "source": [
    "# Simple Example of Gillespie Algorithm"
   ]
  },
  {
   "cell_type": "markdown",
   "metadata": {},
   "source": [
    "a Birth-Death process loosely after Lennart Hilbert's example (https://lennarthilbert.com/2013/11/16/simple-example-of-gillespie-algorithm-in-matlab/)"
   ]
  },
  {
   "cell_type": "markdown",
   "metadata": {},
   "source": [
    "## Model parameters"
   ]
  },
  {
   "cell_type": "markdown",
   "metadata": {},
   "source": [
    "Constant production rate:"
   ]
  },
  {
   "cell_type": "code",
   "execution_count": 2,
   "metadata": {
    "ExecuteTime": {
     "end_time": "2017-08-14T14:58:57.498259Z",
     "start_time": "2017-08-14T14:58:57.495839Z"
    },
    "collapsed": true
   },
   "outputs": [],
   "source": [
    "kk = 1.0"
   ]
  },
  {
   "cell_type": "markdown",
   "metadata": {},
   "source": [
    "Destruction rate:"
   ]
  },
  {
   "cell_type": "code",
   "execution_count": 3,
   "metadata": {
    "ExecuteTime": {
     "end_time": "2017-08-14T14:58:57.503881Z",
     "start_time": "2017-08-14T14:58:57.500093Z"
    },
    "collapsed": true
   },
   "outputs": [],
   "source": [
    "gamma = 0.1"
   ]
  },
  {
   "cell_type": "markdown",
   "metadata": {
    "ExecuteTime": {
     "end_time": "2017-08-14T14:01:55.256283Z",
     "start_time": "2017-08-14T14:01:55.252484Z"
    }
   },
   "source": [
    "## Simulation parameters"
   ]
  },
  {
   "cell_type": "code",
   "execution_count": 4,
   "metadata": {
    "ExecuteTime": {
     "end_time": "2017-08-14T14:58:57.511682Z",
     "start_time": "2017-08-14T14:58:57.505203Z"
    },
    "collapsed": true
   },
   "outputs": [],
   "source": [
    "# Maximum number of reaction steps:\n",
    "\n",
    "R_max = 1000"
   ]
  },
  {
   "cell_type": "markdown",
   "metadata": {},
   "source": [
    "## The actual simulation"
   ]
  },
  {
   "cell_type": "code",
   "execution_count": 5,
   "metadata": {
    "ExecuteTime": {
     "end_time": "2017-08-14T14:58:57.574696Z",
     "start_time": "2017-08-14T14:58:57.512959Z"
    }
   },
   "outputs": [],
   "source": [
    "def birth_death_gillespie(kk, gamma, R_max):\n",
    "    # containers for the simulation time course\n",
    "\n",
    "    tt_cont = np.zeros(R_max+1)\n",
    "    nn_cont = np.empty(R_max+1)\n",
    "\n",
    "    # Definition of state changes for each reaction channel\n",
    "\n",
    "    state_changes = np.array([+1.0,-1.0])\n",
    "\n",
    "    # Pre-allocated propensity vector, no values yet\n",
    "\n",
    "    aa = np.empty(2)\n",
    "\n",
    "    \n",
    "\n",
    "    tt_cont[0] = 0.0 # current time\n",
    "    nn_cont[0] = 0 # current molecule count\n",
    "\n",
    "    for R_counter in range(R_max):\n",
    "        aa[0] = kk\n",
    "        aa[1] = gamma * nn_cont[R_counter]\n",
    "\n",
    "        # draw and record the waiting time\n",
    "        delta_tt = np.random.exponential(1/aa.sum())\n",
    "\n",
    "\n",
    "        # select reaction\n",
    "        valid_inds = aa > 0\n",
    "        valid_aa = aa[valid_inds]\n",
    "        valid_changes = state_changes[valid_inds]\n",
    "\n",
    "#         delta_nn = np.random.choice(valid_changes, p=valid_aa / valid_aa.sum())\n",
    "        # an alternative to the slow choice above such that numba can work, inspired by Lennart again\n",
    "        selection_interval = np.cumsum(valid_aa)\n",
    "        selection_interval = selection_interval / selection_interval[-1]\n",
    "        change_ind = np.nonzero(selection_interval > np.random.uniform(0, 1))[0][0]\n",
    "        delta_nn = valid_changes[change_ind]\n",
    "\n",
    "        # record\n",
    "        tt_cont[R_counter+1] = tt_cont[R_counter] + delta_tt\n",
    "        nn_cont[R_counter+1] = nn_cont[R_counter] + delta_nn\n",
    "        \n",
    "    return tt_cont, nn_cont"
   ]
  },
  {
   "cell_type": "code",
   "execution_count": 6,
   "metadata": {
    "ExecuteTime": {
     "end_time": "2017-08-14T14:58:57.602187Z",
     "start_time": "2017-08-14T14:58:57.576059Z"
    },
    "collapsed": true
   },
   "outputs": [],
   "source": [
    "np.random.seed(42)\n",
    "tt_cont, nn_cont = birth_death_gillespie(kk, gamma, R_max)"
   ]
  },
  {
   "cell_type": "markdown",
   "metadata": {
    "ExecuteTime": {
     "end_time": "2017-08-14T13:49:26.899147Z",
     "start_time": "2017-08-14T13:49:26.896158Z"
    }
   },
   "source": [
    "## Plot the result"
   ]
  },
  {
   "cell_type": "code",
   "execution_count": null,
   "metadata": {
    "ExecuteTime": {
     "start_time": "2017-08-14T14:58:57.133Z"
    }
   },
   "outputs": [
    {
     "data": {
      "text/plain": [
       "[<matplotlib.lines.Line2D at 0x7f6c76fc1b00>]"
      ]
     },
     "execution_count": 7,
     "metadata": {},
     "output_type": "execute_result"
    },
    {
     "data": {
      "image/png": "[encoded data removed]",
      "text/plain": [
       "<matplotlib.figure.Figure at 0x7f6c7704be80>"
      ]
     },
     "metadata": {},
     "output_type": "display_data"
    }
   ],
   "source": [
    "np.random.seed(42)\n",
    "plt.plot(tt_cont, nn_cont)"
   ]
  },
  {
   "cell_type": "markdown",
   "metadata": {},
   "source": [
    "## Performance"
   ]
  },
  {
   "cell_type": "code",
   "execution_count": null,
   "metadata": {
    "ExecuteTime": {
     "start_time": "2017-08-14T14:58:57.134Z"
    }
   },
   "outputs": [],
   "source": [
    "time_python = %timeit -o birth_death_gillespie(kk, gamma, R_max)"
   ]
  },
  {
   "cell_type": "code",
   "execution_count": null,
   "metadata": {
    "ExecuteTime": {
     "start_time": "2017-08-14T14:58:57.136Z"
    }
   },
   "outputs": [],
   "source": [
    "lp = %lprun -r -f birth_death_gillespie birth_death_gillespie(kk, gamma, R_max)\n",
    "lp.print_stats()"
   ]
  },
  {
   "cell_type": "markdown",
   "metadata": {
    "ExecuteTime": {
     "end_time": "2017-08-14T14:08:44.562664Z",
     "start_time": "2017-08-14T14:08:44.541944Z"
    }
   },
   "source": [
    "A lot of time is spent for drawing random numbers. This could possibly be optimised by drawing random numbers first (see Lennart's example)"
   ]
  },
  {
   "cell_type": "markdown",
   "metadata": {},
   "source": [
    "## Does numba help?"
   ]
  },
  {
   "cell_type": "code",
   "execution_count": null,
   "metadata": {
    "ExecuteTime": {
     "start_time": "2017-08-14T14:58:57.138Z"
    }
   },
   "outputs": [],
   "source": [
    "bdg_numba = numba.njit(birth_death_gillespie)"
   ]
  },
  {
   "cell_type": "markdown",
   "metadata": {},
   "source": [
    "### Simulate"
   ]
  },
  {
   "cell_type": "code",
   "execution_count": null,
   "metadata": {
    "ExecuteTime": {
     "start_time": "2017-08-14T14:58:57.140Z"
    }
   },
   "outputs": [],
   "source": [
    "tt_cont, nn_cont = bdg_numba(kk, gamma, R_max)"
   ]
  },
  {
   "cell_type": "markdown",
   "metadata": {},
   "source": [
    "### Plot"
   ]
  },
  {
   "cell_type": "code",
   "execution_count": null,
   "metadata": {
    "ExecuteTime": {
     "start_time": "2017-08-14T14:58:57.142Z"
    }
   },
   "outputs": [],
   "source": [
    "plt.plot(tt_cont, nn_cont)"
   ]
  },
  {
   "cell_type": "markdown",
   "metadata": {},
   "source": [
    "### Performance"
   ]
  },
  {
   "cell_type": "code",
   "execution_count": null,
   "metadata": {
    "ExecuteTime": {
     "start_time": "2017-08-14T14:58:57.143Z"
    }
   },
   "outputs": [],
   "source": [
    "time_numba = %timeit -o bdg_numba(kk, gamma, R_max)"
   ]
  },
  {
   "cell_type": "markdown",
   "metadata": {},
   "source": [
    "## Compare python and numba"
   ]
  },
  {
   "cell_type": "code",
   "execution_count": null,
   "metadata": {
    "ExecuteTime": {
     "start_time": "2017-08-14T14:58:57.145Z"
    }
   },
   "outputs": [],
   "source": [
    "time_python.average / time_numba.average"
   ]
  },
  {
   "cell_type": "markdown",
   "metadata": {},
   "source": [
    "With numba the code runs 27 times faster! \n",
    "\n",
    "** Numba helps **"
   ]
  }
 ],
 "metadata": {
  "kernelspec": {
   "display_name": "Python [conda env:py3]",
   "language": "python",
   "name": "conda-env-py3-py"
  },
  "language_info": {
   "codemirror_mode": {
    "name": "ipython",
    "version": 3
   },
   "file_extension": ".py",
   "mimetype": "text/x-python",
   "name": "python",
   "nbconvert_exporter": "python",
   "pygments_lexer": "ipython3",
   "version": "3.5.2"
  },
  "toc": {
   "nav_menu": {
    "height": "216px",
    "width": "252px"
   },
   "navigate_menu": true,
   "number_sections": true,
   "sideBar": true,
   "threshold": 4,
   "toc_cell": false,
   "toc_section_display": "block",
   "toc_window_display": false
  }
 },
 "nbformat": 4,
 "nbformat_minor": 2
}
